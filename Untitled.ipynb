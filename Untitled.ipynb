{
 "cells": [
  {
   "cell_type": "code",
   "execution_count": 21,
   "id": "a3539351",
   "metadata": {},
   "outputs": [
    {
     "name": "stdout",
     "output_type": "stream",
     "text": [
      "Looking in indexes: https://download.pytorch.org/\n",
      "Requirement already satisfied: scikit-learn in ./new_venv/lib/python3.13/site-packages (1.6.1)\n",
      "Requirement already satisfied: numpy in ./new_venv/lib/python3.13/site-packages (2.2.4)\n",
      "Requirement already satisfied: matplotlib in ./new_venv/lib/python3.13/site-packages (3.10.1)\n",
      "Requirement already satisfied: pandas in ./new_venv/lib/python3.13/site-packages (2.2.3)\n",
      "\u001b[31mERROR: Could not find a version that satisfies the requirement torch (from versions: none)\u001b[0m\u001b[31m\n",
      "\u001b[0m\u001b[31mERROR: No matching distribution found for torch\u001b[0m\u001b[31m\n",
      "\u001b[0m"
     ]
    }
   ],
   "source": [
    "!pip install scikit-learn numpy matplotlib pandas  torch torchvision torchaudio --index-url https://download.pytorch.org/"
   ]
  },
  {
   "cell_type": "code",
   "execution_count": 19,
   "id": "f35d5412",
   "metadata": {},
   "outputs": [
    {
     "ename": "ModuleNotFoundError",
     "evalue": "No module named 'tensorflow'",
     "output_type": "error",
     "traceback": [
      "\u001b[31m---------------------------------------------------------------------------\u001b[39m",
      "\u001b[31mModuleNotFoundError\u001b[39m                       Traceback (most recent call last)",
      "\u001b[36mCell\u001b[39m\u001b[36m \u001b[39m\u001b[32mIn[19]\u001b[39m\u001b[32m, line 5\u001b[39m\n\u001b[32m      3\u001b[39m \u001b[38;5;28;01mimport\u001b[39;00m\u001b[38;5;250m \u001b[39m\u001b[34;01mmatplotlib\u001b[39;00m\u001b[34;01m.\u001b[39;00m\u001b[34;01mpyplot\u001b[39;00m\u001b[38;5;250m \u001b[39m\u001b[38;5;28;01mas\u001b[39;00m\u001b[38;5;250m \u001b[39m\u001b[34;01mplt\u001b[39;00m\n\u001b[32m      4\u001b[39m \u001b[38;5;28;01mfrom\u001b[39;00m\u001b[38;5;250m \u001b[39m\u001b[34;01msklearn\u001b[39;00m\u001b[34;01m.\u001b[39;00m\u001b[34;01mmodel_selection\u001b[39;00m\u001b[38;5;250m \u001b[39m\u001b[38;5;28;01mimport\u001b[39;00m train_test_split\n\u001b[32m----> \u001b[39m\u001b[32m5\u001b[39m \u001b[38;5;28;01mfrom\u001b[39;00m\u001b[38;5;250m \u001b[39m\u001b[34;01mtensorflow\u001b[39;00m\u001b[34;01m.\u001b[39;00m\u001b[34;01mkeras\u001b[39;00m\u001b[34;01m.\u001b[39;00m\u001b[34;01mmodels\u001b[39;00m\u001b[38;5;250m \u001b[39m\u001b[38;5;28;01mimport\u001b[39;00m Sequential\n\u001b[32m      6\u001b[39m \u001b[38;5;28;01mfrom\u001b[39;00m\u001b[38;5;250m \u001b[39m\u001b[34;01mtensorflow\u001b[39;00m\u001b[34;01m.\u001b[39;00m\u001b[34;01mkeras\u001b[39;00m\u001b[34;01m.\u001b[39;00m\u001b[34;01mlayers\u001b[39;00m\u001b[38;5;250m \u001b[39m\u001b[38;5;28;01mimport\u001b[39;00m Dense, LSTM, Embedding\n\u001b[32m      7\u001b[39m \u001b[38;5;28;01mfrom\u001b[39;00m\u001b[38;5;250m \u001b[39m\u001b[34;01mtensorflow\u001b[39;00m\u001b[34;01m.\u001b[39;00m\u001b[34;01mkeras\u001b[39;00m\u001b[34;01m.\u001b[39;00m\u001b[34;01mpreprocessing\u001b[39;00m\u001b[34;01m.\u001b[39;00m\u001b[34;01msequence\u001b[39;00m\u001b[38;5;250m \u001b[39m\u001b[38;5;28;01mimport\u001b[39;00m pad_sequences\n",
      "\u001b[31mModuleNotFoundError\u001b[39m: No module named 'tensorflow'"
     ]
    }
   ],
   "source": [
    "import os\n",
    "import numpy as np\n",
    "import matplotlib.pyplot as plt\n",
    "from sklearn.model_selection import train_test_split\n",
    "from tensorflow.keras.models import Sequential\n",
    "from tensorflow.keras.layers import Dense, LSTM, Embedding\n",
    "from tensorflow.keras.preprocessing.sequence import pad_sequences\n",
    "from tensorflow.keras.preprocessing.text import Tokenizer\n"
   ]
  },
  {
   "cell_type": "code",
   "execution_count": 11,
   "id": "67438923",
   "metadata": {},
   "outputs": [],
   "source": [
    "def load_syscall_sequences(path):\n",
    "    sequences = []\n",
    "    for root, _, files in os.walk(path):\n",
    "        for file in files:\n",
    "            file_path = os.path.join(root, file)\n",
    "            try:\n",
    "                with open(file_path) as f:\n",
    "                    syscalls = [int(line.strip()) for line in f if line.strip().isdigit()]\n",
    "                    sequences.append(syscalls)\n",
    "            except Exception as e:\n",
    "                print(f\"[!] Failed to read {file_path}: {e}\")\n",
    "    return sequences\n"
   ]
  },
  {
   "cell_type": "code",
   "execution_count": 12,
   "id": "95e110ce",
   "metadata": {},
   "outputs": [
    {
     "name": "stdout",
     "output_type": "stream",
     "text": [
      "✅ Loaded 833 training and 746 attack sequences.\n"
     ]
    }
   ],
   "source": [
    "attack_sequences = load_syscall_sequences('/home/kali/Desktop/os_project/ADFA-IDS_DATASETS/ADFA-LD/Attack_Data_Master/')\n",
    "training_sequences = load_syscall_sequences('/home/kali/Desktop/os_project/ADFA-IDS_DATASETS/ADFA-LD/Training_Data_Master/')\n",
    "\n",
    "print(f\"✅ Loaded {len(training_sequences)} training and {len(attack_sequences)} attack sequences.\")"
   ]
  },
  {
   "cell_type": "code",
   "execution_count": 13,
   "id": "4151ef34",
   "metadata": {},
   "outputs": [],
   "source": [
    "# Example: Create syscall frequency vector (could be improved with n-grams etc.)\n",
    "def extract_features(sequences, vocab_size=500):  # Assuming max syscall number is <500\n",
    "    features = []\n",
    "    for seq in sequences:\n",
    "        vec = [0] * vocab_size\n",
    "        for syscall in seq:\n",
    "            if syscall < vocab_size:\n",
    "                vec[syscall] += 1\n",
    "        features.append(vec)\n",
    "    return np.array(features)\n",
    "\n",
    "X_normal = extract_features(normal_sequences)\n",
    "y_normal = np.zeros(len(X_normal))  # 0 = normal\n"
   ]
  },
  {
   "cell_type": "code",
   "execution_count": 14,
   "id": "ea522167",
   "metadata": {},
   "outputs": [],
   "source": [
    "def load_syscall_sequences(path):\n",
    "    sequences = []\n",
    "    for root, _, files in os.walk(path):\n",
    "        for file in files:\n",
    "            file_path = os.path.join(root, file)\n",
    "            try:\n",
    "                with open(file_path) as f:\n",
    "                    syscalls = [int(line.strip()) for line in f if line.strip().isdigit()]\n",
    "                    sequences.append(syscalls)\n",
    "            except Exception as e:\n",
    "                print(f\"[!] Failed to read {file_path}: {e}\")\n",
    "    return sequences\n"
   ]
  },
  {
   "cell_type": "code",
   "execution_count": 18,
   "id": "9cabb3fe-3520-4922-8721-c7d4fef4b80e",
   "metadata": {},
   "outputs": [
    {
     "ename": "FileNotFoundError",
     "evalue": "[Errno 2] No such file or directory: 'ADFA-IDS_DATASETS/Training_Data_Master/'",
     "output_type": "error",
     "traceback": [
      "\u001b[31m---------------------------------------------------------------------------\u001b[39m",
      "\u001b[31mFileNotFoundError\u001b[39m                         Traceback (most recent call last)",
      "\u001b[36mCell\u001b[39m\u001b[36m \u001b[39m\u001b[32mIn[18]\u001b[39m\u001b[32m, line 4\u001b[39m\n\u001b[32m      1\u001b[39m \u001b[38;5;28;01mimport\u001b[39;00m\u001b[38;5;250m \u001b[39m\u001b[34;01mos\u001b[39;00m\n\u001b[32m      3\u001b[39m \u001b[38;5;66;03m# Check folders\u001b[39;00m\n\u001b[32m----> \u001b[39m\u001b[32m4\u001b[39m \u001b[38;5;28mprint\u001b[39m(\u001b[33m\"\u001b[39m\u001b[33mNormal files:\u001b[39m\u001b[33m\"\u001b[39m, \u001b[43mos\u001b[49m\u001b[43m.\u001b[49m\u001b[43mlistdir\u001b[49m\u001b[43m(\u001b[49m\u001b[33;43mr\u001b[39;49m\u001b[33;43m\"\u001b[39;49m\u001b[33;43mADFA-IDS_DATASETS/Training_Data_Master/\u001b[39;49m\u001b[33;43m\"\u001b[39;49m\u001b[43m)\u001b[49m[:\u001b[32m5\u001b[39m])\n\u001b[32m      5\u001b[39m \u001b[38;5;28mprint\u001b[39m(\u001b[33m\"\u001b[39m\u001b[33mMalicious subdirs:\u001b[39m\u001b[33m\"\u001b[39m, os.listdir(\u001b[33mr\u001b[39m\u001b[33m\"\u001b[39m\u001b[33mADFA-IDS_DATASETS/Attack_Data_Master/\u001b[39m\u001b[33m\"\u001b[39m)[:\u001b[32m5\u001b[39m])\n",
      "\u001b[31mFileNotFoundError\u001b[39m: [Errno 2] No such file or directory: 'ADFA-IDS_DATASETS/Training_Data_Master/'"
     ]
    }
   ],
   "source": [
    "import os\n",
    "\n",
    "# Check folders\n",
    "print(\"Normal files:\", os.listdir(r\"ADFA-IDS_DATASETS/Training_Data_Master/\")[:5])\n",
    "print(\"Malicious subdirs:\", os.listdir(r\"ADFA-IDS_DATASETS/Attack_Data_Master/\")[:5])\n"
   ]
  },
  {
   "cell_type": "code",
   "execution_count": 35,
   "id": "5c7f6ee9-e9a7-448a-92ac-dabfd5c3222b",
   "metadata": {},
   "outputs": [
    {
     "data": {
      "text/plain": [
       "['models/syscall_vectorizer.pkl']"
      ]
     },
     "execution_count": 35,
     "metadata": {},
     "output_type": "execute_result"
    }
   ],
   "source": [
    "joblib.dump(rf_model, 'models/adfa_rf_ids.pkl')\n",
    "joblib.dump(vectorizer, 'models/syscall_vectorizer.pkl')\n"
   ]
  }
 ],
 "metadata": {
  "kernelspec": {
   "display_name": "Python 3 (ipykernel)",
   "language": "python",
   "name": "python3"
  },
  "language_info": {
   "codemirror_mode": {
    "name": "ipython",
    "version": 3
   },
   "file_extension": ".py",
   "mimetype": "text/x-python",
   "name": "python",
   "nbconvert_exporter": "python",
   "pygments_lexer": "ipython3",
   "version": "3.13.2"
  }
 },
 "nbformat": 4,
 "nbformat_minor": 5
}
