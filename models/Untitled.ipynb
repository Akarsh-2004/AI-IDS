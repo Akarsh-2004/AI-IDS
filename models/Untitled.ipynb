{
 "cells": [
  {
   "cell_type": "code",
   "execution_count": 1,
   "id": "1afc5469-19e6-4440-8211-d497221781ca",
   "metadata": {},
   "outputs": [
    {
     "name": "stdout",
     "output_type": "stream",
     "text": [
      "Requirement already satisfied: pandas in c:\\users\\akars\\appdata\\local\\programs\\python\\python310\\lib\\site-packages (2.2.3)\n",
      "Requirement already satisfied: scikit-learn in c:\\users\\akars\\appdata\\local\\programs\\python\\python310\\lib\\site-packages (1.5.2)\n",
      "Requirement already satisfied: joblib in c:\\users\\akars\\appdata\\local\\programs\\python\\python310\\lib\\site-packages (1.4.2)\n",
      "Requirement already satisfied: matplotlib in c:\\users\\akars\\appdata\\local\\programs\\python\\python310\\lib\\site-packages (3.9.2)\n",
      "Requirement already satisfied: numpy>=1.22.4 in c:\\users\\akars\\appdata\\local\\programs\\python\\python310\\lib\\site-packages (from pandas) (2.0.2)\n",
      "Requirement already satisfied: python-dateutil>=2.8.2 in c:\\users\\akars\\appdata\\local\\programs\\python\\python310\\lib\\site-packages (from pandas) (2.9.0.post0)\n",
      "Requirement already satisfied: pytz>=2020.1 in c:\\users\\akars\\appdata\\local\\programs\\python\\python310\\lib\\site-packages (from pandas) (2024.2)\n",
      "Requirement already satisfied: tzdata>=2022.7 in c:\\users\\akars\\appdata\\local\\programs\\python\\python310\\lib\\site-packages (from pandas) (2024.2)\n",
      "Requirement already satisfied: scipy>=1.6.0 in c:\\users\\akars\\appdata\\local\\programs\\python\\python310\\lib\\site-packages (from scikit-learn) (1.14.1)\n",
      "Requirement already satisfied: threadpoolctl>=3.1.0 in c:\\users\\akars\\appdata\\local\\programs\\python\\python310\\lib\\site-packages (from scikit-learn) (3.5.0)\n",
      "Requirement already satisfied: contourpy>=1.0.1 in c:\\users\\akars\\appdata\\local\\programs\\python\\python310\\lib\\site-packages (from matplotlib) (1.3.0)\n",
      "Requirement already satisfied: cycler>=0.10 in c:\\users\\akars\\appdata\\local\\programs\\python\\python310\\lib\\site-packages (from matplotlib) (0.12.1)\n",
      "Requirement already satisfied: fonttools>=4.22.0 in c:\\users\\akars\\appdata\\local\\programs\\python\\python310\\lib\\site-packages (from matplotlib) (4.54.1)\n",
      "Requirement already satisfied: kiwisolver>=1.3.1 in c:\\users\\akars\\appdata\\local\\programs\\python\\python310\\lib\\site-packages (from matplotlib) (1.4.7)\n",
      "Requirement already satisfied: packaging>=20.0 in c:\\users\\akars\\appdata\\local\\programs\\python\\python310\\lib\\site-packages (from matplotlib) (24.1)\n",
      "Requirement already satisfied: pillow>=8 in c:\\users\\akars\\appdata\\local\\programs\\python\\python310\\lib\\site-packages (from matplotlib) (11.0.0)\n",
      "Requirement already satisfied: pyparsing>=2.3.1 in c:\\users\\akars\\appdata\\local\\programs\\python\\python310\\lib\\site-packages (from matplotlib) (3.2.0)\n",
      "Requirement already satisfied: six>=1.5 in c:\\users\\akars\\appdata\\local\\programs\\python\\python310\\lib\\site-packages (from python-dateutil>=2.8.2->pandas) (1.16.0)\n"
     ]
    },
    {
     "name": "stderr",
     "output_type": "stream",
     "text": [
      "\n",
      "[notice] A new release of pip is available: 24.3.1 -> 25.0.1\n",
      "[notice] To update, run: python.exe -m pip install --upgrade pip\n"
     ]
    }
   ],
   "source": [
    "!pip install pandas scikit-learn joblib matplotlib"
   ]
  },
  {
   "cell_type": "code",
   "execution_count": 17,
   "id": "ce1089f0-02eb-43a5-ae15-4fbf738c1773",
   "metadata": {},
   "outputs": [],
   "source": [
    "import pandas as pd\n",
    "import os\n",
    "import numpy as np\n",
    "from sklearn.feature_extraction.text import TfidfVectorizer\n",
    "from sklearn.model_selection import train_test_split\n",
    "from sklearn.ensemble import RandomForestClassifier\n",
    "from sklearn.metrics import accuracy_score"
   ]
  },
  {
   "cell_type": "code",
   "execution_count": 18,
   "id": "6a443371-dfa4-421b-a639-d17eff2575df",
   "metadata": {},
   "outputs": [],
   "source": [
    "\n",
    "# Define the paths to the folders\n",
    "root_dir = \"C:\\\\Users\\\\akars\\\\OneDrive\\\\Desktop\\\\os model\\\\archive (1)\\\\ADFA-IDS_DATASETS\\\\ADFA-LD\\\\ADFA-LD\"\n",
    "training_dir = os.path.join(root_dir, \"Training_Data_Master\")\n",
    "attack_dir = os.path.join(root_dir, \"Attack_Data_Master\")\n",
    "validation_dir = os.path.join(root_dir, \"Validation_Data_Master\")\n",
    "\n",
    "# Read the files and labels\n",
    "def read_files(directory, label):\n",
    "    files = []\n",
    "    labels = []\n",
    "    for filename in os.listdir(directory):\n",
    "        filepath = os.path.join(directory, filename)\n",
    "        with open(filepath, \"r\") as file:\n",
    "            files.append(file.read())\n",
    "            labels.append(label)\n",
    "    return files, labels\n",
    "\n",
    "# Read the training data\n",
    "training_files, training_labels = read_files(training_dir, 0)\n",
    "\n",
    "# Read the attack data\n",
    "attack_files = []\n",
    "attack_labels = []\n",
    "for subdir in os.listdir(attack_dir):\n",
    "    subdir_path = os.path.join(attack_dir, subdir)\n",
    "    files, labels = read_files(subdir_path, 1)\n",
    "    attack_files.extend(files)\n",
    "    attack_labels.extend(labels)\n",
    "\n",
    "# Read the validation data\n",
    "validation_files, validation_labels = read_files(validation_dir, 0)\n",
    "\n",
    "# Combine the data\n",
    "files = training_files + attack_files + validation_files\n",
    "labels = training_labels + attack_labels + validation_labels"
   ]
  },
  {
   "cell_type": "code",
   "execution_count": 19,
   "id": "99a10d35-08bc-488d-8476-bc7d195d2f7d",
   "metadata": {},
   "outputs": [],
   "source": [
    "\n",
    "# Vectorize the data\n",
    "vectorizer = TfidfVectorizer()\n",
    "X = vectorizer.fit_transform(files)\n",
    "\n",
    "# Split the data\n",
    "X_train, X_test, y_train, y_test = train_test_split(X, labels, test_size=0.2, random_state=42)\n",
    "\n"
   ]
  },
  {
   "cell_type": "code",
   "execution_count": 20,
   "id": "4c25507c-06e9-431c-a200-fbb8fb3654bf",
   "metadata": {},
   "outputs": [
    {
     "name": "stdout",
     "output_type": "stream",
     "text": [
      "Accuracy: 0.9638958858102435\n"
     ]
    }
   ],
   "source": [
    "clf = RandomForestClassifier(n_estimators=100, random_state=42)\n",
    "clf.fit(X_train, y_train)\n",
    "\n",
    "y_pred=clf.predict(X_test)\n",
    "accuracy = accuracy_score(y_test, y_pred)\n",
    "print(\"Accuracy:\", accuracy)"
   ]
  },
  {
   "cell_type": "code",
   "execution_count": 23,
   "id": "af0faf39-ed00-4b5b-9e3c-363602a37cae",
   "metadata": {},
   "outputs": [
    {
     "name": "stdout",
     "output_type": "stream",
     "text": [
      "Training samples: 833\n",
      "Attack samples: 746\n",
      "Validation samples: 4372\n",
      "Total samples: 5951\n",
      "Sample training file content:\n",
      " 6 6 63 6 42 120 6 195 120 6 6 114 114 1 1 252 252 252 1 1 1 1 1 1 1 1 1 252 252 252 252 252 252 252 252 252 252 252 252 252 252 252 252 252 252 1 1 252 1 1 1 1 1 1 1 1 1 1 1 1 1 1 252 1 1 1 1 1 1 252 252 252 252 252 252 252 252 252 252 252 1 1 1 1 1 1 1 1 1 1 252 1 1 1 1 1 1 1 1 1 1 1 1 1 1 1 1 1 1 \n",
      "Corresponding label: 0\n",
      "Shape of vectorized data (X): (5951, 167)\n"
     ]
    }
   ],
   "source": [
    "#inorder to check weather the data was properly loaded or not\n",
    "print(\"Training samples:\", len(training_files))\n",
    "print(\"Attack samples:\", len(attack_files))\n",
    "print(\"Validation samples:\", len(validation_files))\n",
    "print(\"Total samples:\", len(files))\n",
    "print(\"Sample training file content:\\n\", training_files[0][:300]) \n",
    "print(\"Corresponding label:\", training_labels[0])\n",
    "print(\"Shape of vectorized data (X):\", X.shape)"
   ]
  },
  {
   "cell_type": "code",
   "execution_count": 25,
   "id": "8e4d78a7-6a48-48bc-bc2f-aeb5af5cd6ed",
   "metadata": {},
   "outputs": [],
   "source": [
    "import joblib"
   ]
  },
  {
   "cell_type": "code",
   "execution_count": 26,
   "id": "0575bcb6-29d5-4a6d-ae43-77edd036ae96",
   "metadata": {},
   "outputs": [
    {
     "name": "stdout",
     "output_type": "stream",
     "text": [
      "Saved \n"
     ]
    }
   ],
   "source": [
    "joblib.dump(clf, 'random_forest_ids.pkl')\n",
    "joblib.dump(vectorizer, 'tfidf_vectorizer.pkl')\n",
    "print(\"Saved \")"
   ]
  },
  {
   "cell_type": "code",
   "execution_count": null,
   "id": "95cf72d3-d503-4e0c-a7f1-e2c5f87f81ca",
   "metadata": {},
   "outputs": [],
   "source": []
  }
 ],
 "metadata": {
  "kernelspec": {
   "display_name": "Python 3 (ipykernel)",
   "language": "python",
   "name": "python3"
  },
  "language_info": {
   "codemirror_mode": {
    "name": "ipython",
    "version": 3
   },
   "file_extension": ".py",
   "mimetype": "text/x-python",
   "name": "python",
   "nbconvert_exporter": "python",
   "pygments_lexer": "ipython3",
   "version": "3.10.11"
  }
 },
 "nbformat": 4,
 "nbformat_minor": 5
}
